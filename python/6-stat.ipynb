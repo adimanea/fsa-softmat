{
 "metadata": {
  "language_info": {
   "codemirror_mode": {
    "name": "ipython",
    "version": 3
   },
   "file_extension": ".py",
   "mimetype": "text/x-python",
   "name": "python",
   "nbconvert_exporter": "python",
   "pygments_lexer": "ipython3",
   "version": "3.9.4"
  },
  "orig_nbformat": 2,
  "kernelspec": {
   "name": "python3",
   "language": "python",
   "display_name": "Python 3"
  }
 },
 "nbformat": 4,
 "nbformat_minor": 2,
 "cells": [
  {
   "source": [
    "# Calcule statistice pe baza seturilor de date"
   ],
   "cell_type": "markdown",
   "metadata": {}
  },
  {
   "source": [
    "## Exemple simple, pe seturi mici"
   ],
   "cell_type": "markdown",
   "metadata": {}
  },
  {
   "source": [
    "Considerăm o listă generată aleatoriu, cu un număr aleatoriu de elemente (între 100 și 1000), elementele fiind între 0 și 10, pe care facem calcule statistice."
   ],
   "cell_type": "markdown",
   "metadata": {}
  },
  {
   "cell_type": "code",
   "execution_count": 16,
   "metadata": {
    "pycharm": {
     "name": "#%%\n"
    }
   },
   "outputs": [
    {
     "name": "stdout",
     "output_type": "stream",
     "text": [
      "Media setului de date este 4.980568011958146\n",
      "Media ponderată cu ponderi aleatorii între 0 și 1 este 2.414334939966318\n",
      "Avem 669 elemente în set, cu mediana 9\n",
      "Modul setului de date este 9\n",
      "Abaterea standard este 3.1831834344743433\n"
     ]
    }
   ],
   "source": [
    "import random\n",
    "import math\n",
    "\n",
    "count = random.randint(100, 1000)\n",
    "\n",
    "# declarată cu sintaxa \"list comprehension\"\n",
    "date = [random.randint(0, 10) for i in range(count)]\n",
    "\n",
    "# alternativa clasică\n",
    "date = []\n",
    "for i in range(count):\n",
    "    date.append(random.randint(0,10))\n",
    "\n",
    "# calculăm suma elementelor cu funcția `sum'\n",
    "media = sum(date) / len(date)\n",
    "\n",
    "# alternativa clasică\n",
    "suma = 0\n",
    "for data in date:\n",
    "    suma += data\n",
    "media = suma/len(date)\n",
    "print(f\"Media setului de date este {media}\")\n",
    "\n",
    "# ponderi generate aleatoriu, între 0 și 1 -- cu list comprehension\n",
    "ponderi = [random.random() for i in range(count)] # random.random() returnează automat între 0 și 1\n",
    "media_ponderata = 0\n",
    "for i in range(count):\n",
    "    media_ponderata += date[i] * ponderi[i]\n",
    "media_ponderata = media_ponderata / len(date)\n",
    "print(f\"Media ponderată cu ponderi aleatorii între 0 și 1 este {media_ponderata}\")\n",
    "\n",
    "# mediana = valoarea care apare în mijlocul setului de date\n",
    "if count % 2 == 0:\n",
    "    mediana = (date[count//2] + date[count//2 + 1])/2\n",
    "else:\n",
    "    mediana = (date[count//2 + 1])\n",
    "print(f\"Avem {count} elemente în set, cu mediana {mediana}\")\n",
    "\n",
    "# modul: elementul care apare cel mai des\n",
    "# ideea: creăm o listă în care păstrăm elementele fără dubluri,\n",
    "# apoi numărăm aparițiile acelora\n",
    "date_uniq = []\n",
    "for elt in date:\n",
    "    if elt not in date_uniq:\n",
    "        date_uniq.append(elt)\n",
    "\n",
    "# creăm apoi un dicționar, de forma {'element' : 'nr apariții'}\n",
    "dict_aparitii = dict.fromkeys(date_uniq, 0)\n",
    "for elt in date_uniq:\n",
    "    dict_aparitii[elt] = date.count(elt)\n",
    "max_app = max(dict_aparitii.values())\n",
    "for k in dict_aparitii:\n",
    "    if dict_aparitii[k] == max_app:\n",
    "        modul = k\n",
    "print(f\"Modul setului de date este {modul}\")\n",
    "\n",
    "# abaterea standard\n",
    "sigma = 0\n",
    "s = 0\n",
    "for i in range(count):\n",
    "    s += (date[i] - media)**2\n",
    "sigma = math.sqrt(s/count)\n",
    "print(f\"Abaterea standard este {sigma}\")"
   ]
  },
  {
   "cell_type": "code",
   "execution_count": null,
   "outputs": [],
   "source": [],
   "metadata": {
    "collapsed": false,
    "pycharm": {
     "name": "#%%\n"
    }
   }
  },
  {
   "cell_type": "markdown",
   "source": [
    "## Același exemplu, folosind funcții Python"
   ],
   "metadata": {
    "collapsed": false
   }
  },
  {
   "cell_type": "code",
   "execution_count": 20,
   "outputs": [
    {
     "name": "stdout",
     "output_type": "stream",
     "text": [
      "Media este 4.883592017738359, mediana este 5.0, modul este [4], abaterea standard este 3.078473676945711\n",
      "Media ponderată este 4.862176778601792\n"
     ]
    }
   ],
   "source": [
    "import random\n",
    "import statistics\n",
    "import numpy as np # pentru media ponderată\n",
    "\n",
    "count = random.randint(100, 1000)\n",
    "date = [random.randint(0, 10) for i in range(count)]\n",
    "\n",
    "media = statistics.mean(date)\n",
    "mediana = statistics.median(date)\n",
    "modul = statistics.multimode(date)\n",
    "sigma = statistics.stdev(date)\n",
    "\n",
    "ponderi = [random.random() for i in range(count)]\n",
    "media_ponderata = np.average(date, weights=ponderi)\n",
    "\n",
    "print(f\"Media este {media}, mediana este {mediana}, modul este {modul}, abaterea standard este {sigma}\")\n",
    "print(f\"Media ponderată este {media_ponderata}\")"
   ],
   "metadata": {
    "collapsed": false,
    "pycharm": {
     "name": "#%%\n"
    }
   }
  },
  {
   "cell_type": "markdown",
   "source": [
    "## Exemplu pornind de la un CSV\n",
    "Trebuie să alegem un set cu care să lucrăm, pentru simplitate.\n",
    "Vom alege pe cel care are capul de tabel `Fuel Information.City mpg`.\n",
    "\n",
    "După o inspecție manuală, constatăm că este elementul de pe poziția 9."
   ],
   "metadata": {
    "collapsed": false
   }
  },
  {
   "cell_type": "code",
   "execution_count": 26,
   "outputs": [
    {
     "name": "stdout",
     "output_type": "stream",
     "text": [
      "Avem 5076 date pentru Fuel Information.City mpg\n",
      "STATISTICI:\n",
      "* Consumul mediu este 17.275807722616232\n",
      "* Mediana consumului în oraș este 17.0\n",
      "* Modul consumului în oraș este [17]\n",
      "* Abaterea standard pt consumul în oraș este 4.479485130256008\n"
     ]
    }
   ],
   "source": [
    "import csv\n",
    "import statistics\n",
    "\n",
    "fuel_info = []\n",
    "with open('cars.csv', 'r') as csv_file:\n",
    "    readData = csv.reader(csv_file)\n",
    "    for row in readData:\n",
    "        fuel_info.append(row[8])\n",
    "\n",
    "# ștergem primul element, care e capul de tabel,\n",
    "# pe care îl păstrăm separat\n",
    "cap_tabel = fuel_info[0]\n",
    "fuel_info = fuel_info[1:]\n",
    "\n",
    "# elementele se preiau ca string, deci le convertim\n",
    "fuel_info = [int(f) for f in fuel_info]\n",
    "\n",
    "avg_fuel = statistics.mean(fuel_info)\n",
    "median_fuel = statistics.median(fuel_info)\n",
    "mode_fuel = statistics.multimode(fuel_info)\n",
    "sigma_fuel = statistics.stdev(fuel_info)\n",
    "\n",
    "print(f\"Avem {len(fuel_info)} date pentru {cap_tabel}\")\n",
    "print(\"STATISTICI:\")\n",
    "print(f\"* Consumul mediu este {avg_fuel}\")\n",
    "print(f\"* Mediana consumului în oraș este {median_fuel}\")\n",
    "print(f\"* Modul consumului în oraș este {mode_fuel}\")\n",
    "print(f\"* Abaterea standard pt consumul în oraș este {sigma_fuel}\")"
   ],
   "metadata": {
    "collapsed": false,
    "pycharm": {
     "name": "#%%\n"
    }
   }
  },
  {
   "cell_type": "markdown",
   "source": [
    "## Grafice\n",
    "Vom reprezenta datele pe o histogramă și trasăm media cu o orizontală."
   ],
   "metadata": {
    "collapsed": false
   }
  },
  {
   "cell_type": "code",
   "execution_count": 54,
   "outputs": [
    {
     "data": {
      "text/plain": "<Figure size 1440x720 with 1 Axes>",
      "image/png": "[encoded data removed]"
     },
     "metadata": {
      "needs_background": "light"
     },
     "output_type": "display_data"
    }
   ],
   "source": [
    "import numpy as np\n",
    "import matplotlib.pyplot as plt\n",
    "\n",
    "count = [i for i in range(len(fuel_info))]\n",
    "plt.close(\"all\")\n",
    "plt.figure(figsize=(20,10))\n",
    "\n",
    "plt.bar(count, fuel_info, width=1.0, alpha=0.4)\n",
    "plt.xlabel(cap_tabel)\n",
    "plt.ylabel(\"mpg\")\n",
    "plt.hlines(avg_fuel, xmin=0, xmax=len(fuel_info), colors='red')\n",
    "plt.text(len(fuel_info)/2, 18, f\"MEDIA = {round(avg_fuel,2)}\", fontsize=18)\n",
    "plt.show()"
   ],
   "metadata": {
    "collapsed": false,
    "pycharm": {
     "name": "#%%\n"
    }
   }
  },
  {
   "cell_type": "code",
   "execution_count": null,
   "outputs": [],
   "source": [],
   "metadata": {
    "collapsed": false,
    "pycharm": {
     "name": "#%%\n"
    }
   }
  }
 ]
}